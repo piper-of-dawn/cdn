{
 "cells": [
  {
   "cell_type": "code",
   "execution_count": 3,
   "metadata": {},
   "outputs": [
    {
     "data": {
      "text/html": [
       "<style type='text/css'>\n",
       ".datatable table.frame { margin-bottom: 0; }\n",
       ".datatable table.frame thead { border-bottom: none; }\n",
       ".datatable table.frame tr.coltypes td {  color: #FFFFFF;  line-height: 6px;  padding: 0 0.5em;}\n",
       ".datatable .bool    { background: #DDDD99; }\n",
       ".datatable .object  { background: #565656; }\n",
       ".datatable .int     { background: #5D9E5D; }\n",
       ".datatable .float   { background: #4040CC; }\n",
       ".datatable .str     { background: #CC4040; }\n",
       ".datatable .time    { background: #40CC40; }\n",
       ".datatable .row_index {  background: var(--jp-border-color3);  border-right: 1px solid var(--jp-border-color0);  color: var(--jp-ui-font-color3);  font-size: 9px;}\n",
       ".datatable .frame tbody td { text-align: left; }\n",
       ".datatable .frame tr.coltypes .row_index {  background: var(--jp-border-color0);}\n",
       ".datatable th:nth-child(2) { padding-left: 12px; }\n",
       ".datatable .hellipsis {  color: var(--jp-cell-editor-border-color);}\n",
       ".datatable .vellipsis {  background: var(--jp-layout-color0);  color: var(--jp-cell-editor-border-color);}\n",
       ".datatable .na {  color: var(--jp-cell-editor-border-color);  font-size: 80%;}\n",
       ".datatable .sp {  opacity: 0.25;}\n",
       ".datatable .footer { font-size: 9px; }\n",
       ".datatable .frame_dimensions {  background: var(--jp-border-color3);  border-top: 1px solid var(--jp-border-color0);  color: var(--jp-ui-font-color3);  display: inline-block;  opacity: 0.6;  padding: 1px 10px 1px 5px;}\n",
       "</style>\n"
      ],
      "text/plain": [
       "<IPython.core.display.HTML object>"
      ]
     },
     "metadata": {},
     "output_type": "display_data"
    }
   ],
   "source": [
    "import polars as pl\n",
    "import pandas as pd\n",
    "import datatable as dt"
   ]
  },
  {
   "cell_type": "code",
   "execution_count": 10,
   "metadata": {},
   "outputs": [],
   "source": [
    "def convertToPolars (df):\n",
    "    if isinstance(df, pd.DataFrame):\n",
    "        df = pl.from_pandas(df)\n",
    "        return df \n",
    "    elif isinstance(df, pl.DataFrame):\n",
    "        return df\n",
    "    elif isinstance(df, dt.Frame):\n",
    "        df = convertToPolars(df.to_pandas())\n",
    "        return df\n",
    "    else:\n",
    "        raise TypeError(\"Input must be a pandas, datatable or polars dataframe\")"
   ]
  },
  {
   "cell_type": "code",
   "execution_count": 11,
   "metadata": {},
   "outputs": [],
   "source": [
    "def test (df):\n",
    "    df = convertToPolars(df)\n",
    "    return df"
   ]
  },
  {
   "cell_type": "code",
   "execution_count": 14,
   "metadata": {},
   "outputs": [],
   "source": [
    "dfo = dt.fread(\"data.csv\")\n",
    "df = test(df)"
   ]
  },
  {
   "cell_type": "code",
   "execution_count": 16,
   "metadata": {},
   "outputs": [
    {
     "data": {
      "text/html": [
       "<div><style>\n",
       ".dataframe > thead > tr > th,\n",
       ".dataframe > tbody > tr > td {\n",
       "  text-align: right;\n",
       "}\n",
       "</style>\n",
       "<small>shape: (521, 46)</small><table border=\"1\" class=\"dataframe\"><thead><tr><th>C0</th><th>Unnamed: 0</th><th>Unnamed: 0.1</th><th>district</th><th>state</th><th>TOT_P_1998</th><th>TOT_P_R_1998</th><th>TOT_P_2011</th><th>TOT_P_R_2011</th><th>1994med</th><th>2011med</th><th>growth</th><th>nl_growth</th><th>nl_pc_1994</th><th>nl_pc_2011</th><th>nl_pc_growth</th><th>log_nlpc94</th><th>rural_share_1998</th><th>rural_share_2011</th><th>pop_growth</th><th>andhra-pradesh</th><th>assam</th><th>bihar</th><th>chhattisgarh</th><th>delhi</th><th>gujarat</th><th>himachal-pradesh</th><th>jammu-kashmir</th><th>jharkhand</th><th>karnataka</th><th>kerala</th><th>madhya-pradesh</th><th>maharashtra</th><th>manipur</th><th>meghalaya</th><th>mizoram</th><th>nagaland</th><th>orissa</th><th>rajasthan</th><th>tamilnadu</th><th>tripura</th><th>uttar-pradesh</th><th>uttarakhand</th><th>west-bengal</th><th>med94</th><th>med11</th></tr><tr><td>i32</td><td>i32</td><td>i32</td><td>str</td><td>str</td><td>i32</td><td>i32</td><td>i32</td><td>i32</td><td>f64</td><td>f64</td><td>f64</td><td>f64</td><td>f64</td><td>f64</td><td>f64</td><td>f64</td><td>f64</td><td>f64</td><td>f64</td><td>bool</td><td>bool</td><td>bool</td><td>bool</td><td>bool</td><td>bool</td><td>bool</td><td>bool</td><td>bool</td><td>bool</td><td>bool</td><td>bool</td><td>bool</td><td>bool</td><td>bool</td><td>bool</td><td>bool</td><td>bool</td><td>bool</td><td>bool</td><td>bool</td><td>bool</td><td>bool</td><td>bool</td><td>f64</td><td>f64</td></tr></thead><tbody><tr><td>0</td><td>0</td><td>0</td><td>&quot;Adilabad&quot;</td><td>&quot;andhra-pradesh…</td><td>495794</td><td>463089</td><td>2737738</td><td>1979912</td><td>19.5588</td><td>20.64</td><td>1.0812</td><td>0.002989</td><td>0.000039</td><td>0.000008</td><td>-0.09194</td><td>-10.14049</td><td>1.070624</td><td>1.382757</td><td>0.094929</td><td>true</td><td>false</td><td>false</td><td>false</td><td>false</td><td>false</td><td>false</td><td>false</td><td>false</td><td>false</td><td>false</td><td>false</td><td>false</td><td>false</td><td>false</td><td>false</td><td>false</td><td>false</td><td>false</td><td>false</td><td>false</td><td>false</td><td>false</td><td>false</td><td>19.5588</td><td>20.64</td></tr><tr><td>1</td><td>1</td><td>1</td><td>&quot;Agra&quot;</td><td>&quot;uttar-pradesh&quot;</td><td>7255</td><td>1113</td><td>4380793</td><td>2371296</td><td>20.0</td><td>22.30925</td><td>2.30925</td><td>0.006071</td><td>0.002757</td><td>0.000005</td><td>-0.349668</td><td>-5.893714</td><td>6.518419</td><td>1.847426</td><td>0.355739</td><td>false</td><td>false</td><td>false</td><td>false</td><td>false</td><td>false</td><td>false</td><td>false</td><td>false</td><td>false</td><td>false</td><td>false</td><td>false</td><td>false</td><td>false</td><td>false</td><td>false</td><td>false</td><td>false</td><td>false</td><td>false</td><td>true</td><td>false</td><td>false</td><td>20.0</td><td>22.30925</td></tr><tr><td>2</td><td>2</td><td>2</td><td>&quot;Ahmadabad&quot;</td><td>&quot;gujarat&quot;</td><td>89138</td><td>16749</td><td>7208200</td><td>1149436</td><td>20.36</td><td>21.9583</td><td>1.5983</td><td>0.004199</td><td>0.000228</td><td>0.000003</td><td>-0.239845</td><td>-8.384369</td><td>5.321989</td><td>6.271076</td><td>0.244044</td><td>false</td><td>false</td><td>false</td><td>false</td><td>false</td><td>true</td><td>false</td><td>false</td><td>false</td><td>false</td><td>false</td><td>false</td><td>false</td><td>false</td><td>false</td><td>false</td><td>false</td><td>false</td><td>false</td><td>false</td><td>false</td><td>false</td><td>false</td><td>false</td><td>20.36</td><td>21.9583</td></tr><tr><td>3</td><td>3</td><td>3</td><td>&quot;Ahmadnagar&quot;</td><td>&quot;maharashtra&quot;</td><td>378230</td><td>354975</td><td>4543083</td><td>3630012</td><td>20.2836</td><td>21.0303</td><td>0.7467</td><td>0.002008</td><td>0.000054</td><td>0.000005</td><td>-0.136095</td><td>-9.833445</td><td>1.065512</td><td>1.251534</td><td>0.138103</td><td>false</td><td>false</td><td>false</td><td>false</td><td>false</td><td>false</td><td>false</td><td>false</td><td>false</td><td>false</td><td>false</td><td>false</td><td>true</td><td>false</td><td>false</td><td>false</td><td>false</td><td>false</td><td>false</td><td>false</td><td>false</td><td>false</td><td>false</td><td>false</td><td>20.2836</td><td>21.0303</td></tr><tr><td>4</td><td>4</td><td>4</td><td>&quot;Aizawl&quot;</td><td>&quot;mizoram&quot;</td><td>373542</td><td>83343</td><td>404054</td><td>91217</td><td>19.3125</td><td>19.1279</td><td>-0.1846</td><td>-0.000534</td><td>0.000052</td><td>0.000047</td><td>-0.004896</td><td>-9.870033</td><td>4.481984</td><td>4.429591</td><td>0.004362</td><td>false</td><td>false</td><td>false</td><td>false</td><td>false</td><td>false</td><td>false</td><td>false</td><td>false</td><td>false</td><td>false</td><td>false</td><td>false</td><td>false</td><td>false</td><td>true</td><td>false</td><td>false</td><td>false</td><td>false</td><td>false</td><td>false</td><td>false</td><td>false</td><td>19.3125</td><td>19.1279</td></tr><tr><td>5</td><td>5</td><td>5</td><td>&quot;Ajmer&quot;</td><td>&quot;rajasthan&quot;</td><td>63482</td><td>48564</td><td>2584913</td><td>1548574</td><td>19.6579</td><td>20.7955</td><td>1.1376</td><td>0.003125</td><td>0.00031</td><td>0.000008</td><td>-0.202802</td><td>-8.080032</td><td>1.307182</td><td>1.669221</td><td>0.205927</td><td>false</td><td>false</td><td>false</td><td>false</td><td>false</td><td>false</td><td>false</td><td>false</td><td>false</td><td>false</td><td>false</td><td>false</td><td>false</td><td>false</td><td>false</td><td>false</td><td>false</td><td>false</td><td>true</td><td>false</td><td>false</td><td>false</td><td>false</td><td>false</td><td>19.6579</td><td>20.7955</td></tr><tr><td>6</td><td>6</td><td>6</td><td>&quot;Akola&quot;</td><td>&quot;maharashtra&quot;</td><td>100280</td><td>85661</td><td>1818617</td><td>1096768</td><td>19.8454</td><td>20.5625</td><td>0.7171</td><td>0.001972</td><td>0.000198</td><td>0.000011</td><td>-0.15902</td><td>-8.527749</td><td>1.170661</td><td>1.65816</td><td>0.160993</td><td>false</td><td>false</td><td>false</td><td>false</td><td>false</td><td>false</td><td>false</td><td>false</td><td>false</td><td>false</td><td>false</td><td>false</td><td>true</td><td>false</td><td>false</td><td>false</td><td>false</td><td>false</td><td>false</td><td>false</td><td>false</td><td>false</td><td>false</td><td>false</td><td>19.8454</td><td>20.5625</td></tr><tr><td>7</td><td>7</td><td>7</td><td>&quot;Alappuzha&quot;</td><td>&quot;kerala&quot;</td><td>6574</td><td>2961</td><td>2121943</td><td>974916</td><td>22.2581</td><td>25.7927</td><td>3.5346</td><td>0.008188</td><td>0.003386</td><td>0.000012</td><td>-0.312754</td><td>-5.688172</td><td>2.220196</td><td>2.176539</td><td>0.320942</td><td>false</td><td>false</td><td>false</td><td>false</td><td>false</td><td>false</td><td>false</td><td>false</td><td>false</td><td>false</td><td>true</td><td>false</td><td>false</td><td>false</td><td>false</td><td>false</td><td>false</td><td>false</td><td>false</td><td>false</td><td>false</td><td>false</td><td>false</td><td>false</td><td>22.2581</td><td>25.7927</td></tr><tr><td>8</td><td>8</td><td>8</td><td>&quot;Aligarh&quot;</td><td>&quot;uttar-pradesh&quot;</td><td>629</td><td>274</td><td>3673849</td><td>2457268</td><td>19.55</td><td>20.8076</td><td>1.2576</td><td>0.003464</td><td>0.031081</td><td>0.000006</td><td>-0.478349</td><td>-3.471156</td><td>2.29562</td><td>1.495095</td><td>0.481812</td><td>false</td><td>false</td><td>false</td><td>false</td><td>false</td><td>false</td><td>false</td><td>false</td><td>false</td><td>false</td><td>false</td><td>false</td><td>false</td><td>false</td><td>false</td><td>false</td><td>false</td><td>false</td><td>false</td><td>false</td><td>false</td><td>true</td><td>false</td><td>false</td><td>19.55</td><td>20.8076</td></tr><tr><td>9</td><td>9</td><td>9</td><td>&quot;Alirajpur&quot;</td><td>&quot;madhya-pradesh…</td><td>648638</td><td>627835</td><td>728677</td><td>671596</td><td>18.9059</td><td>19.3647</td><td>0.4588</td><td>0.001332</td><td>0.000029</td><td>0.000027</td><td>-0.005132</td><td>-10.443156</td><td>1.033135</td><td>1.084993</td><td>0.006464</td><td>false</td><td>false</td><td>false</td><td>false</td><td>false</td><td>false</td><td>false</td><td>false</td><td>false</td><td>false</td><td>false</td><td>true</td><td>false</td><td>false</td><td>false</td><td>false</td><td>false</td><td>false</td><td>false</td><td>false</td><td>false</td><td>false</td><td>false</td><td>false</td><td>18.9059</td><td>19.3647</td></tr><tr><td>10</td><td>10</td><td>10</td><td>&quot;Allahabad&quot;</td><td>&quot;uttar-pradesh&quot;</td><td>7955</td><td>4861</td><td>5959798</td><td>4483188</td><td>19.9552</td><td>21.5938</td><td>1.6386</td><td>0.004384</td><td>0.002509</td><td>0.000004</td><td>-0.363337</td><td>-5.988066</td><td>1.636495</td><td>1.329366</td><td>0.367722</td><td>false</td><td>false</td><td>false</td><td>false</td><td>false</td><td>false</td><td>false</td><td>false</td><td>false</td><td>false</td><td>false</td><td>false</td><td>false</td><td>false</td><td>false</td><td>false</td><td>false</td><td>false</td><td>false</td><td>false</td><td>false</td><td>true</td><td>false</td><td>false</td><td>19.9552</td><td>21.5938</td></tr><tr><td>11</td><td>11</td><td>11</td><td>&quot;Almora&quot;</td><td>&quot;uttarakhand&quot;</td><td>1281</td><td>750</td><td>621927</td><td>559595</td><td>19.31095</td><td>20.69185</td><td>1.3809</td><td>0.003837</td><td>0.015075</td><td>0.000033</td><td>-0.339784</td><td>-4.194724</td><td>1.708</td><td>1.111388</td><td>0.343621</td><td>false</td><td>false</td><td>false</td><td>false</td><td>false</td><td>false</td><td>false</td><td>false</td><td>false</td><td>false</td><td>false</td><td>false</td><td>false</td><td>false</td><td>false</td><td>false</td><td>false</td><td>false</td><td>false</td><td>false</td><td>false</td><td>false</td><td>true</td><td>false</td><td>19.31095</td><td>20.69185</td></tr><tr><td>&hellip;</td><td>&hellip;</td><td>&hellip;</td><td>&hellip;</td><td>&hellip;</td><td>&hellip;</td><td>&hellip;</td><td>&hellip;</td><td>&hellip;</td><td>&hellip;</td><td>&hellip;</td><td>&hellip;</td><td>&hellip;</td><td>&hellip;</td><td>&hellip;</td><td>&hellip;</td><td>&hellip;</td><td>&hellip;</td><td>&hellip;</td><td>&hellip;</td><td>&hellip;</td><td>&hellip;</td><td>&hellip;</td><td>&hellip;</td><td>&hellip;</td><td>&hellip;</td><td>&hellip;</td><td>&hellip;</td><td>&hellip;</td><td>&hellip;</td><td>&hellip;</td><td>&hellip;</td><td>&hellip;</td><td>&hellip;</td><td>&hellip;</td><td>&hellip;</td><td>&hellip;</td><td>&hellip;</td><td>&hellip;</td><td>&hellip;</td><td>&hellip;</td><td>&hellip;</td><td>&hellip;</td><td>&hellip;</td><td>&hellip;</td><td>&hellip;</td></tr><tr><td>509</td><td>509</td><td>509</td><td>&quot;Warangal&quot;</td><td>&quot;andhra-pradesh…</td><td>530656</td><td>486034</td><td>3522644</td><td>2524498</td><td>19.8333</td><td>21.9211</td><td>2.0878</td><td>0.00556</td><td>0.000037</td><td>0.000006</td><td>-0.099598</td><td>-10.194507</td><td>1.091808</td><td>1.395384</td><td>0.105159</td><td>true</td><td>false</td><td>false</td><td>false</td><td>false</td><td>false</td><td>false</td><td>false</td><td>false</td><td>false</td><td>false</td><td>false</td><td>false</td><td>false</td><td>false</td><td>false</td><td>false</td><td>false</td><td>false</td><td>false</td><td>false</td><td>false</td><td>false</td><td>false</td><td>19.8333</td><td>21.9211</td></tr><tr><td>510</td><td>510</td><td>510</td><td>&quot;Wardha&quot;</td><td>&quot;maharashtra&quot;</td><td>149507</td><td>125090</td><td>1296157</td><td>875284</td><td>19.4737</td><td>20.23735</td><td>0.76365</td><td>0.002137</td><td>0.00013</td><td>0.000016</td><td>-0.117853</td><td>-8.946034</td><td>1.195195</td><td>1.480842</td><td>0.11999</td><td>false</td><td>false</td><td>false</td><td>false</td><td>false</td><td>false</td><td>false</td><td>false</td><td>false</td><td>false</td><td>false</td><td>false</td><td>true</td><td>false</td><td>false</td><td>false</td><td>false</td><td>false</td><td>false</td><td>false</td><td>false</td><td>false</td><td>false</td><td>false</td><td>19.4737</td><td>20.23735</td></tr><tr><td>511</td><td>511</td><td>511</td><td>&quot;Washim&quot;</td><td>&quot;maharashtra&quot;</td><td>80471</td><td>77404</td><td>1196714</td><td>985058</td><td>19.5376</td><td>19.85</td><td>0.3124</td><td>0.000881</td><td>0.000243</td><td>0.000017</td><td>-0.149087</td><td>-8.323311</td><td>1.039623</td><td>1.214867</td><td>0.149969</td><td>false</td><td>false</td><td>false</td><td>false</td><td>false</td><td>false</td><td>false</td><td>false</td><td>false</td><td>false</td><td>false</td><td>false</td><td>true</td><td>false</td><td>false</td><td>false</td><td>false</td><td>false</td><td>false</td><td>false</td><td>false</td><td>false</td><td>false</td><td>false</td><td>19.5376</td><td>19.85</td></tr><tr><td>512</td><td>512</td><td>512</td><td>&quot;Wayanad&quot;</td><td>&quot;kerala&quot;</td><td>151443</td><td>148215</td><td>816558</td><td>784981</td><td>20.4659</td><td>21.7865</td><td>1.3206</td><td>0.003474</td><td>0.000135</td><td>0.000027</td><td>-0.090131</td><td>-8.909205</td><td>1.021779</td><td>1.040226</td><td>0.093605</td><td>false</td><td>false</td><td>false</td><td>false</td><td>false</td><td>false</td><td>false</td><td>false</td><td>false</td><td>false</td><td>true</td><td>false</td><td>false</td><td>false</td><td>false</td><td>false</td><td>false</td><td>false</td><td>false</td><td>false</td><td>false</td><td>false</td><td>false</td><td>false</td><td>20.4659</td><td>21.7865</td></tr><tr><td>513</td><td>513</td><td>513</td><td>&quot;West Godavari&quot;</td><td>&quot;andhra-pradesh…</td><td>109072</td><td>99659</td><td>3934782</td><td>3126191</td><td>20.284</td><td>22.1273</td><td>1.8433</td><td>0.004832</td><td>0.000186</td><td>0.000006</td><td>-0.194368</td><td>-8.589931</td><td>1.094452</td><td>1.258651</td><td>0.1992</td><td>true</td><td>false</td><td>false</td><td>false</td><td>false</td><td>false</td><td>false</td><td>false</td><td>false</td><td>false</td><td>false</td><td>false</td><td>false</td><td>false</td><td>false</td><td>false</td><td>false</td><td>false</td><td>false</td><td>false</td><td>false</td><td>false</td><td>false</td><td>false</td><td>20.284</td><td>22.1273</td></tr><tr><td>514</td><td>514</td><td>514</td><td>&quot;West Imphal&quot;</td><td>&quot;manipur&quot;</td><td>24161</td><td>4240</td><td>514683</td><td>196091</td><td>20.2581</td><td>20.5412</td><td>0.2831</td><td>0.000771</td><td>0.000838</td><td>0.00004</td><td>-0.169163</td><td>-7.08394</td><td>5.698349</td><td>2.624715</td><td>0.169934</td><td>false</td><td>false</td><td>false</td><td>false</td><td>false</td><td>false</td><td>false</td><td>false</td><td>false</td><td>false</td><td>false</td><td>false</td><td>false</td><td>true</td><td>false</td><td>false</td><td>false</td><td>false</td><td>false</td><td>false</td><td>false</td><td>false</td><td>false</td><td>false</td><td>20.2581</td><td>20.5412</td></tr><tr><td>515</td><td>515</td><td>515</td><td>&quot;West Tripura&quot;</td><td>&quot;tripura&quot;</td><td>431944</td><td>402746</td><td>1724619</td><td>1047345</td><td>19.5172</td><td>21.3229</td><td>1.8057</td><td>0.004916</td><td>0.000045</td><td>0.000012</td><td>-0.071999</td><td>-10.004755</td><td>1.072497</td><td>1.646658</td><td>0.076915</td><td>false</td><td>false</td><td>false</td><td>false</td><td>false</td><td>false</td><td>false</td><td>false</td><td>false</td><td>false</td><td>false</td><td>false</td><td>false</td><td>false</td><td>false</td><td>false</td><td>false</td><td>false</td><td>false</td><td>false</td><td>true</td><td>false</td><td>false</td><td>false</td><td>19.5172</td><td>21.3229</td></tr><tr><td>516</td><td>516</td><td>516</td><td>&quot;Wokha&quot;</td><td>&quot;nagaland&quot;</td><td>156621</td><td>125051</td><td>166239</td><td>131254</td><td>19.2576</td><td>19.0737</td><td>-0.1839</td><td>-0.000533</td><td>0.000123</td><td>0.000115</td><td>-0.003844</td><td>-9.003678</td><td>1.252457</td><td>1.266544</td><td>0.003311</td><td>false</td><td>false</td><td>false</td><td>false</td><td>false</td><td>false</td><td>false</td><td>false</td><td>false</td><td>false</td><td>false</td><td>false</td><td>false</td><td>false</td><td>false</td><td>false</td><td>true</td><td>false</td><td>false</td><td>false</td><td>false</td><td>false</td><td>false</td><td>false</td><td>19.2576</td><td>19.0737</td></tr><tr><td>517</td><td>517</td><td>517</td><td>&quot;Yadgir&quot;</td><td>&quot;karnataka&quot;</td><td>146849</td><td>128724</td><td>1172985</td><td>952482</td><td>19.5132</td><td>20.7927</td><td>1.2795</td><td>0.003528</td><td>0.000133</td><td>0.000018</td><td>-0.111911</td><td>-8.926069</td><td>1.140805</td><td>1.231504</td><td>0.115439</td><td>false</td><td>false</td><td>false</td><td>false</td><td>false</td><td>false</td><td>false</td><td>false</td><td>false</td><td>true</td><td>false</td><td>false</td><td>false</td><td>false</td><td>false</td><td>false</td><td>false</td><td>false</td><td>false</td><td>false</td><td>false</td><td>false</td><td>false</td><td>false</td><td>19.5132</td><td>20.7927</td></tr><tr><td>518</td><td>518</td><td>518</td><td>&quot;Yavatmal&quot;</td><td>&quot;maharashtra&quot;</td><td>514057</td><td>473752</td><td>2775457</td><td>2176252</td><td>19.3125</td><td>20.1091</td><td>0.7966</td><td>0.002246</td><td>0.000038</td><td>0.000007</td><td>-0.091434</td><td>-10.189337</td><td>1.085076</td><td>1.275338</td><td>0.09368</td><td>false</td><td>false</td><td>false</td><td>false</td><td>false</td><td>false</td><td>false</td><td>false</td><td>false</td><td>false</td><td>false</td><td>false</td><td>true</td><td>false</td><td>false</td><td>false</td><td>false</td><td>false</td><td>false</td><td>false</td><td>false</td><td>false</td><td>false</td><td>false</td><td>19.3125</td><td>20.1091</td></tr><tr><td>519</td><td>519</td><td>519</td><td>&quot;Zunheboto&quot;</td><td>&quot;nagaland&quot;</td><td>136561</td><td>111875</td><td>141014</td><td>113409</td><td>19.0769</td><td>18.9545</td><td>-0.1224</td><td>-0.000358</td><td>0.00014</td><td>0.000134</td><td>-0.00214</td><td>-8.876049</td><td>1.220657</td><td>1.243411</td><td>0.001783</td><td>false</td><td>false</td><td>false</td><td>false</td><td>false</td><td>false</td><td>false</td><td>false</td><td>false</td><td>false</td><td>false</td><td>false</td><td>false</td><td>false</td><td>false</td><td>false</td><td>true</td><td>false</td><td>false</td><td>false</td><td>false</td><td>false</td><td>false</td><td>false</td><td>19.0769</td><td>18.9545</td></tr><tr><td>520</td><td>520</td><td>520</td><td>&quot;Delhi&quot;</td><td>&quot;delhi&quot;</td><td>9420644</td><td>942065</td><td>16886948</td><td>419319</td><td>51.8191</td><td>68.5177</td><td>null</td><td>0.015519</td><td>0.000006</td><td>0.000004</td><td>-0.016906</td><td>-12.110655</td><td>9.999994</td><td>40.272318</td><td>0.032424</td><td>false</td><td>false</td><td>false</td><td>false</td><td>true</td><td>false</td><td>false</td><td>false</td><td>false</td><td>false</td><td>false</td><td>false</td><td>false</td><td>false</td><td>false</td><td>false</td><td>false</td><td>false</td><td>false</td><td>false</td><td>false</td><td>false</td><td>false</td><td>false</td><td>51.8191</td><td>68.5177</td></tr></tbody></table></div>"
      ],
      "text/plain": [
       "shape: (521, 46)\n",
       "┌─────┬────────────┬──────────┬────────────┬───┬─────────────┬─────────────┬─────────┬──────────┐\n",
       "│ C0  ┆ Unnamed: 0 ┆ Unnamed: ┆ district   ┆ … ┆ uttarakhand ┆ west-bengal ┆ med94   ┆ med11    │\n",
       "│ --- ┆ ---        ┆ 0.1      ┆ ---        ┆   ┆ ---         ┆ ---         ┆ ---     ┆ ---      │\n",
       "│ i32 ┆ i32        ┆ ---      ┆ str        ┆   ┆ bool        ┆ bool        ┆ f64     ┆ f64      │\n",
       "│     ┆            ┆ i32      ┆            ┆   ┆             ┆             ┆         ┆          │\n",
       "╞═════╪════════════╪══════════╪════════════╪═══╪═════════════╪═════════════╪═════════╪══════════╡\n",
       "│ 0   ┆ 0          ┆ 0        ┆ Adilabad   ┆ … ┆ false       ┆ false       ┆ 19.5588 ┆ 20.64    │\n",
       "│ 1   ┆ 1          ┆ 1        ┆ Agra       ┆ … ┆ false       ┆ false       ┆ 20.0    ┆ 22.30925 │\n",
       "│ 2   ┆ 2          ┆ 2        ┆ Ahmadabad  ┆ … ┆ false       ┆ false       ┆ 20.36   ┆ 21.9583  │\n",
       "│ 3   ┆ 3          ┆ 3        ┆ Ahmadnagar ┆ … ┆ false       ┆ false       ┆ 20.2836 ┆ 21.0303  │\n",
       "│ …   ┆ …          ┆ …        ┆ …          ┆ … ┆ …           ┆ …           ┆ …       ┆ …        │\n",
       "│ 517 ┆ 517        ┆ 517      ┆ Yadgir     ┆ … ┆ false       ┆ false       ┆ 19.5132 ┆ 20.7927  │\n",
       "│ 518 ┆ 518        ┆ 518      ┆ Yavatmal   ┆ … ┆ false       ┆ false       ┆ 19.3125 ┆ 20.1091  │\n",
       "│ 519 ┆ 519        ┆ 519      ┆ Zunheboto  ┆ … ┆ false       ┆ false       ┆ 19.0769 ┆ 18.9545  │\n",
       "│ 520 ┆ 520        ┆ 520      ┆ Delhi      ┆ … ┆ false       ┆ false       ┆ 51.8191 ┆ 68.5177  │\n",
       "└─────┴────────────┴──────────┴────────────┴───┴─────────────┴─────────────┴─────────┴──────────┘"
      ]
     },
     "execution_count": 16,
     "metadata": {},
     "output_type": "execute_result"
    }
   ],
   "source": [
    "dfo = pd.read_csv(\"data.csv\")\n",
    "df = test(df)\n",
    "df"
   ]
  },
  {
   "cell_type": "code",
   "execution_count": null,
   "metadata": {},
   "outputs": [],
   "source": []
  }
 ],
 "metadata": {
  "kernelspec": {
   "display_name": "Python 3",
   "language": "python",
   "name": "python3"
  },
  "language_info": {
   "codemirror_mode": {
    "name": "ipython",
    "version": 3
   },
   "file_extension": ".py",
   "mimetype": "text/x-python",
   "name": "python",
   "nbconvert_exporter": "python",
   "pygments_lexer": "ipython3",
   "version": "3.11.3"
  },
  "orig_nbformat": 4
 },
 "nbformat": 4,
 "nbformat_minor": 2
}
